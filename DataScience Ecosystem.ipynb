{
 "cells": [
  {
   "cell_type": "markdown",
   "id": "7b14306f",
   "metadata": {},
   "source": [
    "# Data Science Tools and Ecosystem"
   ]
  },
  {
   "cell_type": "markdown",
   "id": "be6ac445",
   "metadata": {},
   "source": [
    "In this notebook, Data Science Tools and Ecosystem are summarized.\n"
   ]
  },
  {
   "cell_type": "markdown",
   "id": "d10362c8",
   "metadata": {},
   "source": [
    "**Objectives:**"
   ]
  },
  {
   "cell_type": "markdown",
   "id": "c98a5634",
   "metadata": {},
   "source": [
    "+ List popular Languages for Data Science\n",
    "+ List commonly used libraries used for Data Science\n",
    "+ List Data Science Tools\n",
    "+ Evaluating Arithmetic expressions in python"
   ]
  },
  {
   "cell_type": "markdown",
   "id": "f3272506",
   "metadata": {},
   "source": [
    "Some of the popular languages that Data Scientists use are:\n",
    "   "
   ]
  },
  {
   "cell_type": "markdown",
   "id": "56641295",
   "metadata": {},
   "source": [
    "1. Python\n",
    "2. R\n",
    "3. SQL"
   ]
  },
  {
   "cell_type": "markdown",
   "id": "4bb6b103",
   "metadata": {},
   "source": [
    "Some of the commonly used libraries used by Data Scientists include:"
   ]
  },
  {
   "cell_type": "markdown",
   "id": "6451fcc9",
   "metadata": {},
   "source": [
    "1. Pandas\n",
    "2. Scikit-Learn\n",
    "3. Plotly"
   ]
  },
  {
   "cell_type": "markdown",
   "id": "4ed2980e",
   "metadata": {},
   "source": [
    "|  |  |  | |\n",
    "| ------ | ----- | ----- | ------ |\n",
    "| Data Science tools | Tableau | Tensorflow | Jupyter Notebook|"
   ]
  },
  {
   "cell_type": "markdown",
   "id": "367b4c67",
   "metadata": {},
   "source": [
    "### Below are a few examples of evaluating arithmetic expressions in Python"
   ]
  },
  {
   "cell_type": "code",
   "execution_count": 2,
   "id": "1e577b51",
   "metadata": {},
   "outputs": [
    {
     "data": {
      "text/plain": [
       "17"
      ]
     },
     "execution_count": 2,
     "metadata": {},
     "output_type": "execute_result"
    }
   ],
   "source": [
    "#This a simple arithmetic expression to multiply then add integers\n",
    "(3*4)+5"
   ]
  },
  {
   "cell_type": "code",
   "execution_count": 3,
   "id": "d8dcbf27",
   "metadata": {},
   "outputs": [
    {
     "data": {
      "text/plain": [
       "3.3333333333333335"
      ]
     },
     "execution_count": 3,
     "metadata": {},
     "output_type": "execute_result"
    }
   ],
   "source": [
    "# This will convert 200 minutes to hours by dividing by 60\n",
    "(200/60)"
   ]
  },
  {
   "cell_type": "markdown",
   "id": "af98c857",
   "metadata": {},
   "source": [
    "## Author\n",
    "Oluwasewa Osunkalu"
   ]
  },
  {
   "cell_type": "code",
   "execution_count": null,
   "id": "76e14b6b",
   "metadata": {},
   "outputs": [],
   "source": []
  }
 ],
 "metadata": {
  "kernelspec": {
   "display_name": "Python 3 (ipykernel)",
   "language": "python",
   "name": "python3"
  },
  "language_info": {
   "codemirror_mode": {
    "name": "ipython",
    "version": 3
   },
   "file_extension": ".py",
   "mimetype": "text/x-python",
   "name": "python",
   "nbconvert_exporter": "python",
   "pygments_lexer": "ipython3",
   "version": "3.11.5"
  }
 },
 "nbformat": 4,
 "nbformat_minor": 5
}
